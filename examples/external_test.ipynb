{
 "cells": [
  {
   "cell_type": "code",
   "execution_count": 1,
   "id": "cdcbf1df",
   "metadata": {},
   "outputs": [],
   "source": [
    "%matplotlib notebook\n",
    "import numpy as np\n",
    "import matplotlib.pyplot as plt\n",
    "import sys\n",
    "sys.path.append(\"..\")\n",
    "from data_prep import testing_data_prep\n",
    "from testing import testing, majority_vote, counts_to_probs_binary\n",
    "from model import vgg11\n",
    "from utils import add_value_label"
   ]
  },
  {
   "cell_type": "code",
   "execution_count": 2,
   "id": "70b0a213",
   "metadata": {},
   "outputs": [],
   "source": [
    "image_path = \"../20220929_dataset_all_classes/\"\n",
    "labels_path = \"../20220929_dataset_all_classes/FFc_data_with_G3descs.txt\""
   ]
  },
  {
   "cell_type": "code",
   "execution_count": 3,
   "id": "b40a8884",
   "metadata": {},
   "outputs": [
    {
     "name": "stderr",
     "output_type": "stream",
     "text": [
      "100%|█████████████████████████████████████████████████████████████████████████████████████| 9/9 [00:00<00:00, 10.02it/s]\n"
     ]
    }
   ],
   "source": [
    "test_images, test_labels = testing_data_prep(image_path, labels_path)"
   ]
  },
  {
   "cell_type": "code",
   "execution_count": 5,
   "id": "901df585",
   "metadata": {},
   "outputs": [],
   "source": [
    "model = vgg11(model_type=\"binary\")"
   ]
  }
 ],
 "metadata": {
  "kernelspec": {
   "display_name": "Python 3 (ipykernel)",
   "language": "python",
   "name": "python3"
  },
  "language_info": {
   "codemirror_mode": {
    "name": "ipython",
    "version": 3
   },
   "file_extension": ".py",
   "mimetype": "text/x-python",
   "name": "python",
   "nbconvert_exporter": "python",
   "pygments_lexer": "ipython3",
   "version": "3.8.12"
  }
 },
 "nbformat": 4,
 "nbformat_minor": 5
}
