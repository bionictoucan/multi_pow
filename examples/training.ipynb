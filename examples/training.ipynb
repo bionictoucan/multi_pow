{
 "cells": [
  {
   "cell_type": "code",
   "execution_count": 3,
   "id": "ef418a9a",
   "metadata": {},
   "outputs": [],
   "source": [
    "%matplotlib notebook\n",
    "import torch\n",
    "import numpy as np\n",
    "import matplotlib.pyplot as plt\n",
    "import sys\n",
    "sys.path.append(\"..\")\n",
    "from data_prep import training_data_prep\n",
    "from model import vgg11\n",
    "from training import BinaryTrainer"
   ]
  },
  {
   "cell_type": "code",
   "execution_count": 2,
   "id": "578a311e",
   "metadata": {},
   "outputs": [],
   "source": [
    "image_path = \"../20220929_dataset_all_classes/\"\n",
    "labels_path = \"../20220929_dataset_all_classes/FFc_data_with_G3descs.txt\""
   ]
  },
  {
   "cell_type": "code",
   "execution_count": null,
   "id": "412db195",
   "metadata": {},
   "outputs": [
    {
     "name": "stderr",
     "output_type": "stream",
     "text": [
      "100%|███████████████████████████████████████████████████████████████████████████████████| 90/90 [00:09<00:00,  9.55it/s]\n",
      " 32%|██████████████████████████▍                                                       | 87/270 [02:13<30:51, 10.11s/it]"
     ]
    }
   ],
   "source": [
    "trainval_images, trainval_labels = training_data_prep(image_path, labels_path, model_classes=\"cohesive\")"
   ]
  },
  {
   "cell_type": "code",
   "execution_count": null,
   "id": "1ed9d1fb",
   "metadata": {},
   "outputs": [],
   "source": []
  }
 ],
 "metadata": {
  "kernelspec": {
   "display_name": "Python 3 (ipykernel)",
   "language": "python",
   "name": "python3"
  },
  "language_info": {
   "codemirror_mode": {
    "name": "ipython",
    "version": 3
   },
   "file_extension": ".py",
   "mimetype": "text/x-python",
   "name": "python",
   "nbconvert_exporter": "python",
   "pygments_lexer": "ipython3",
   "version": "3.8.12"
  }
 },
 "nbformat": 4,
 "nbformat_minor": 5
}
